{
 "cells": [
  {
   "cell_type": "markdown",
   "source": [
    "#IMPORITNG PANDAS"
   ],
   "metadata": {
    "collapsed": false
   }
  },
  {
   "cell_type": "markdown",
   "source": [],
   "metadata": {
    "collapsed": false
   }
  },
  {
   "cell_type": "code",
   "execution_count": 6,
   "metadata": {
    "ExecuteTime": {
     "start_time": "2023-05-11T13:33:09.538249Z",
     "end_time": "2023-05-11T13:33:13.506393Z"
    },
    "collapsed": false
   },
   "outputs": [],
   "source": [
    "import pandas as pd"
   ]
  },
  {
   "cell_type": "markdown",
   "metadata": {
    "collapsed": false
   },
   "source": [
    "#IMPORTING DATAS"
   ]
  },
  {
   "cell_type": "code",
   "execution_count": 7,
   "metadata": {
    "ExecuteTime": {
     "start_time": "2023-05-11T13:33:13.517002Z",
     "end_time": "2023-05-11T13:33:13.714036Z"
    },
    "collapsed": false
   },
   "outputs": [],
   "source": [
    "names=('id','Names','Year','Rating','Votes','Time','Genre')\n",
    "data=pd.read_csv('imdb_top_10000.txt',sep='\\t',names=names,index_col=0)"
   ]
  },
  {
   "cell_type": "markdown",
   "metadata": {
    "collapsed": false
   },
   "source": [
    "\n",
    "\n",
    "#EXPLORING DATA"
   ]
  },
  {
   "cell_type": "code",
   "execution_count": 8,
   "metadata": {
    "ExecuteTime": {
     "start_time": "2023-05-11T13:33:13.681727Z",
     "end_time": "2023-05-11T13:33:13.790639Z"
    },
    "collapsed": false
   },
   "outputs": [
    {
     "data": {
      "text/plain": "                                     Names  Year  Rating   Votes       Time   \nid                                                                            \ntt0111161  The Shawshank Redemption (1994)  1994     9.2  619479  142 mins.  \\\ntt0110912              Pulp Fiction (1994)  1994     9.0  490065  154 mins.   \ntt0137523                Fight Club (1999)  1999     8.8  458173  139 mins.   \ntt0133093                The Matrix (1999)  1999     8.7  448114  136 mins.   \ntt1375666                 Inception (2010)  2010     8.9  385149  148 mins.   \n\n                                      Genre  \nid                                           \ntt0111161                       Crime|Drama  \ntt0110912                    Crime|Thriller  \ntt0137523            Drama|Mystery|Thriller  \ntt0133093           Action|Adventure|Sci-Fi  \ntt1375666  Action|Adventure|Sci-Fi|Thriller  ",
      "text/html": "<div>\n<style scoped>\n    .dataframe tbody tr th:only-of-type {\n        vertical-align: middle;\n    }\n\n    .dataframe tbody tr th {\n        vertical-align: top;\n    }\n\n    .dataframe thead th {\n        text-align: right;\n    }\n</style>\n<table border=\"1\" class=\"dataframe\">\n  <thead>\n    <tr style=\"text-align: right;\">\n      <th></th>\n      <th>Names</th>\n      <th>Year</th>\n      <th>Rating</th>\n      <th>Votes</th>\n      <th>Time</th>\n      <th>Genre</th>\n    </tr>\n    <tr>\n      <th>id</th>\n      <th></th>\n      <th></th>\n      <th></th>\n      <th></th>\n      <th></th>\n      <th></th>\n    </tr>\n  </thead>\n  <tbody>\n    <tr>\n      <th>tt0111161</th>\n      <td>The Shawshank Redemption (1994)</td>\n      <td>1994</td>\n      <td>9.2</td>\n      <td>619479</td>\n      <td>142 mins.</td>\n      <td>Crime|Drama</td>\n    </tr>\n    <tr>\n      <th>tt0110912</th>\n      <td>Pulp Fiction (1994)</td>\n      <td>1994</td>\n      <td>9.0</td>\n      <td>490065</td>\n      <td>154 mins.</td>\n      <td>Crime|Thriller</td>\n    </tr>\n    <tr>\n      <th>tt0137523</th>\n      <td>Fight Club (1999)</td>\n      <td>1999</td>\n      <td>8.8</td>\n      <td>458173</td>\n      <td>139 mins.</td>\n      <td>Drama|Mystery|Thriller</td>\n    </tr>\n    <tr>\n      <th>tt0133093</th>\n      <td>The Matrix (1999)</td>\n      <td>1999</td>\n      <td>8.7</td>\n      <td>448114</td>\n      <td>136 mins.</td>\n      <td>Action|Adventure|Sci-Fi</td>\n    </tr>\n    <tr>\n      <th>tt1375666</th>\n      <td>Inception (2010)</td>\n      <td>2010</td>\n      <td>8.9</td>\n      <td>385149</td>\n      <td>148 mins.</td>\n      <td>Action|Adventure|Sci-Fi|Thriller</td>\n    </tr>\n  </tbody>\n</table>\n</div>"
     },
     "execution_count": 8,
     "metadata": {},
     "output_type": "execute_result"
    }
   ],
   "source": [
    "names=('id','Names','Year','Rating','Votes','Time','Genre')\n",
    "data=pd.read_csv('imdb_top_10000.txt',sep='\\t',names=names,index_col=0)\n",
    "data.head()"
   ]
  },
  {
   "cell_type": "code",
   "execution_count": 9,
   "metadata": {
    "ExecuteTime": {
     "start_time": "2023-05-11T13:33:13.793045Z",
     "end_time": "2023-05-11T13:33:13.812692Z"
    },
    "collapsed": false
   },
   "outputs": [
    {
     "data": {
      "text/plain": "                                     Names  Year  Rating   Votes       Time   \nid                                                                            \ntt0111161  The Shawshank Redemption (1994)  1994     9.2  619479  142 mins.  \\\ntt0110912              Pulp Fiction (1994)  1994     9.0  490065  154 mins.   \ntt0137523                Fight Club (1999)  1999     8.8  458173  139 mins.   \n\n                            Genre  \nid                                 \ntt0111161             Crime|Drama  \ntt0110912          Crime|Thriller  \ntt0137523  Drama|Mystery|Thriller  ",
      "text/html": "<div>\n<style scoped>\n    .dataframe tbody tr th:only-of-type {\n        vertical-align: middle;\n    }\n\n    .dataframe tbody tr th {\n        vertical-align: top;\n    }\n\n    .dataframe thead th {\n        text-align: right;\n    }\n</style>\n<table border=\"1\" class=\"dataframe\">\n  <thead>\n    <tr style=\"text-align: right;\">\n      <th></th>\n      <th>Names</th>\n      <th>Year</th>\n      <th>Rating</th>\n      <th>Votes</th>\n      <th>Time</th>\n      <th>Genre</th>\n    </tr>\n    <tr>\n      <th>id</th>\n      <th></th>\n      <th></th>\n      <th></th>\n      <th></th>\n      <th></th>\n      <th></th>\n    </tr>\n  </thead>\n  <tbody>\n    <tr>\n      <th>tt0111161</th>\n      <td>The Shawshank Redemption (1994)</td>\n      <td>1994</td>\n      <td>9.2</td>\n      <td>619479</td>\n      <td>142 mins.</td>\n      <td>Crime|Drama</td>\n    </tr>\n    <tr>\n      <th>tt0110912</th>\n      <td>Pulp Fiction (1994)</td>\n      <td>1994</td>\n      <td>9.0</td>\n      <td>490065</td>\n      <td>154 mins.</td>\n      <td>Crime|Thriller</td>\n    </tr>\n    <tr>\n      <th>tt0137523</th>\n      <td>Fight Club (1999)</td>\n      <td>1999</td>\n      <td>8.8</td>\n      <td>458173</td>\n      <td>139 mins.</td>\n      <td>Drama|Mystery|Thriller</td>\n    </tr>\n  </tbody>\n</table>\n</div>"
     },
     "execution_count": 9,
     "metadata": {},
     "output_type": "execute_result"
    }
   ],
   "source": [
    "data.head(3)"
   ]
  },
  {
   "cell_type": "code",
   "execution_count": 10,
   "metadata": {
    "ExecuteTime": {
     "start_time": "2023-05-11T13:33:13.813678Z",
     "end_time": "2023-05-11T13:33:13.991578Z"
    },
    "collapsed": false
   },
   "outputs": [
    {
     "data": {
      "text/plain": "                                   Names  Year  Rating  Votes       Time   \nid                                                                         \ntt0807721                 Meduzot (2007)  2007     7.0   1357   78 mins.  \\\ntt0339642          Daltry Calhoun (2005)  2005     5.2   1357  100 mins.   \ntt0060880  The Quiller Memorandum (1966)  1966     6.5   1356  104 mins.   \ntt0152836                    Taal (1999)  1999     6.5   1356  179 mins.   \ntt0279977          The Navigators (2001)  2001     6.9   1356   96 mins.   \n\n                                Genre  \nid                                     \ntt0807721                       Drama  \ntt0339642  Comedy|Drama|Music|Romance  \ntt0060880      Drama|Mystery|Thriller  \ntt0152836             Musical|Romance  \ntt0279977                Comedy|Drama  ",
      "text/html": "<div>\n<style scoped>\n    .dataframe tbody tr th:only-of-type {\n        vertical-align: middle;\n    }\n\n    .dataframe tbody tr th {\n        vertical-align: top;\n    }\n\n    .dataframe thead th {\n        text-align: right;\n    }\n</style>\n<table border=\"1\" class=\"dataframe\">\n  <thead>\n    <tr style=\"text-align: right;\">\n      <th></th>\n      <th>Names</th>\n      <th>Year</th>\n      <th>Rating</th>\n      <th>Votes</th>\n      <th>Time</th>\n      <th>Genre</th>\n    </tr>\n    <tr>\n      <th>id</th>\n      <th></th>\n      <th></th>\n      <th></th>\n      <th></th>\n      <th></th>\n      <th></th>\n    </tr>\n  </thead>\n  <tbody>\n    <tr>\n      <th>tt0807721</th>\n      <td>Meduzot (2007)</td>\n      <td>2007</td>\n      <td>7.0</td>\n      <td>1357</td>\n      <td>78 mins.</td>\n      <td>Drama</td>\n    </tr>\n    <tr>\n      <th>tt0339642</th>\n      <td>Daltry Calhoun (2005)</td>\n      <td>2005</td>\n      <td>5.2</td>\n      <td>1357</td>\n      <td>100 mins.</td>\n      <td>Comedy|Drama|Music|Romance</td>\n    </tr>\n    <tr>\n      <th>tt0060880</th>\n      <td>The Quiller Memorandum (1966)</td>\n      <td>1966</td>\n      <td>6.5</td>\n      <td>1356</td>\n      <td>104 mins.</td>\n      <td>Drama|Mystery|Thriller</td>\n    </tr>\n    <tr>\n      <th>tt0152836</th>\n      <td>Taal (1999)</td>\n      <td>1999</td>\n      <td>6.5</td>\n      <td>1356</td>\n      <td>179 mins.</td>\n      <td>Musical|Romance</td>\n    </tr>\n    <tr>\n      <th>tt0279977</th>\n      <td>The Navigators (2001)</td>\n      <td>2001</td>\n      <td>6.9</td>\n      <td>1356</td>\n      <td>96 mins.</td>\n      <td>Comedy|Drama</td>\n    </tr>\n  </tbody>\n</table>\n</div>"
     },
     "execution_count": 10,
     "metadata": {},
     "output_type": "execute_result"
    }
   ],
   "source": [
    "data.tail()"
   ]
  },
  {
   "cell_type": "code",
   "execution_count": 36,
   "metadata": {
    "ExecuteTime": {
     "start_time": "2023-05-11T13:33:56.905145Z",
     "end_time": "2023-05-11T13:33:56.965221Z"
    },
    "collapsed": false
   },
   "outputs": [
    {
     "data": {
      "text/plain": "                                   Names  Year  Rating  Votes       Time   \nid                                                                         \ntt0060880  The Quiller Memorandum (1966)  1966     6.5   1356  104 mins.  \\\ntt0152836                    Taal (1999)  1999     6.5   1356  179 mins.   \ntt0279977          The Navigators (2001)  2001     6.9   1356   96 mins.   \n\n                            Genre  \nid                                 \ntt0060880  Drama|Mystery|Thriller  \ntt0152836         Musical|Romance  \ntt0279977            Comedy|Drama  ",
      "text/html": "<div>\n<style scoped>\n    .dataframe tbody tr th:only-of-type {\n        vertical-align: middle;\n    }\n\n    .dataframe tbody tr th {\n        vertical-align: top;\n    }\n\n    .dataframe thead th {\n        text-align: right;\n    }\n</style>\n<table border=\"1\" class=\"dataframe\">\n  <thead>\n    <tr style=\"text-align: right;\">\n      <th></th>\n      <th>Names</th>\n      <th>Year</th>\n      <th>Rating</th>\n      <th>Votes</th>\n      <th>Time</th>\n      <th>Genre</th>\n    </tr>\n    <tr>\n      <th>id</th>\n      <th></th>\n      <th></th>\n      <th></th>\n      <th></th>\n      <th></th>\n      <th></th>\n    </tr>\n  </thead>\n  <tbody>\n    <tr>\n      <th>tt0060880</th>\n      <td>The Quiller Memorandum (1966)</td>\n      <td>1966</td>\n      <td>6.5</td>\n      <td>1356</td>\n      <td>104 mins.</td>\n      <td>Drama|Mystery|Thriller</td>\n    </tr>\n    <tr>\n      <th>tt0152836</th>\n      <td>Taal (1999)</td>\n      <td>1999</td>\n      <td>6.5</td>\n      <td>1356</td>\n      <td>179 mins.</td>\n      <td>Musical|Romance</td>\n    </tr>\n    <tr>\n      <th>tt0279977</th>\n      <td>The Navigators (2001)</td>\n      <td>2001</td>\n      <td>6.9</td>\n      <td>1356</td>\n      <td>96 mins.</td>\n      <td>Comedy|Drama</td>\n    </tr>\n  </tbody>\n</table>\n</div>"
     },
     "execution_count": 36,
     "metadata": {},
     "output_type": "execute_result"
    }
   ],
   "source": [
    "data.tail(3)"
   ]
  },
  {
   "cell_type": "code",
   "execution_count": 12,
   "metadata": {
    "ExecuteTime": {
     "start_time": "2023-05-11T13:33:13.885530Z",
     "end_time": "2023-05-11T13:33:14.228543Z"
    },
    "collapsed": false
   },
   "outputs": [
    {
     "data": {
      "text/plain": "               Year        Rating          Votes\ncount  10000.000000  10000.000000   10000.000000\nmean    1993.472800      6.386070   16604.012800\nstd       14.829924      1.189933   34563.459698\nmin     1950.000000      1.500000    1356.000000\n25%     1986.000000      5.700000    2333.750000\n50%     1998.000000      6.600000    4980.500000\n75%     2005.000000      7.200000   15277.750000\nmax     2011.000000      9.200000  619479.000000",
      "text/html": "<div>\n<style scoped>\n    .dataframe tbody tr th:only-of-type {\n        vertical-align: middle;\n    }\n\n    .dataframe tbody tr th {\n        vertical-align: top;\n    }\n\n    .dataframe thead th {\n        text-align: right;\n    }\n</style>\n<table border=\"1\" class=\"dataframe\">\n  <thead>\n    <tr style=\"text-align: right;\">\n      <th></th>\n      <th>Year</th>\n      <th>Rating</th>\n      <th>Votes</th>\n    </tr>\n  </thead>\n  <tbody>\n    <tr>\n      <th>count</th>\n      <td>10000.000000</td>\n      <td>10000.000000</td>\n      <td>10000.000000</td>\n    </tr>\n    <tr>\n      <th>mean</th>\n      <td>1993.472800</td>\n      <td>6.386070</td>\n      <td>16604.012800</td>\n    </tr>\n    <tr>\n      <th>std</th>\n      <td>14.829924</td>\n      <td>1.189933</td>\n      <td>34563.459698</td>\n    </tr>\n    <tr>\n      <th>min</th>\n      <td>1950.000000</td>\n      <td>1.500000</td>\n      <td>1356.000000</td>\n    </tr>\n    <tr>\n      <th>25%</th>\n      <td>1986.000000</td>\n      <td>5.700000</td>\n      <td>2333.750000</td>\n    </tr>\n    <tr>\n      <th>50%</th>\n      <td>1998.000000</td>\n      <td>6.600000</td>\n      <td>4980.500000</td>\n    </tr>\n    <tr>\n      <th>75%</th>\n      <td>2005.000000</td>\n      <td>7.200000</td>\n      <td>15277.750000</td>\n    </tr>\n    <tr>\n      <th>max</th>\n      <td>2011.000000</td>\n      <td>9.200000</td>\n      <td>619479.000000</td>\n    </tr>\n  </tbody>\n</table>\n</div>"
     },
     "execution_count": 12,
     "metadata": {},
     "output_type": "execute_result"
    }
   ],
   "source": [
    "data.describe()"
   ]
  },
  {
   "cell_type": "code",
   "execution_count": 13,
   "metadata": {
    "ExecuteTime": {
     "start_time": "2023-05-11T13:33:14.000645Z",
     "end_time": "2023-05-11T13:33:14.372691Z"
    },
    "collapsed": false
   },
   "outputs": [
    {
     "name": "stdout",
     "output_type": "stream",
     "text": [
      "<class 'pandas.core.frame.DataFrame'>\n",
      "Index: 10000 entries, tt0111161 to tt0279977\n",
      "Data columns (total 6 columns):\n",
      " #   Column  Non-Null Count  Dtype  \n",
      "---  ------  --------------  -----  \n",
      " 0   Names   10000 non-null  object \n",
      " 1   Year    10000 non-null  int64  \n",
      " 2   Rating  10000 non-null  float64\n",
      " 3   Votes   10000 non-null  int64  \n",
      " 4   Time    10000 non-null  object \n",
      " 5   Genre   9999 non-null   object \n",
      "dtypes: float64(1), int64(2), object(3)\n",
      "memory usage: 546.9+ KB\n"
     ]
    }
   ],
   "source": [
    "data.info()"
   ]
  },
  {
   "cell_type": "markdown",
   "metadata": {
    "collapsed": false
   },
   "source": [
    "#EXPORTING DATA"
   ]
  },
  {
   "cell_type": "code",
   "execution_count": 14,
   "metadata": {
    "ExecuteTime": {
     "start_time": "2023-05-11T13:33:14.087451Z",
     "end_time": "2023-05-11T13:33:14.372691Z"
    },
    "collapsed": false
   },
   "outputs": [],
   "source": [
    "data.to_csv('test.csv',header=True,index=True,sep=',')"
   ]
  },
  {
   "cell_type": "markdown",
   "metadata": {
    "collapsed": false
   },
   "source": [
    "#SORTING DATA"
   ]
  },
  {
   "cell_type": "code",
   "execution_count": 15,
   "metadata": {
    "ExecuteTime": {
     "start_time": "2023-05-11T13:33:14.228543Z",
     "end_time": "2023-05-11T13:33:14.607030Z"
    },
    "collapsed": false
   },
   "outputs": [
    {
     "data": {
      "text/plain": "                                           Names  Year  Rating   Votes   \nid                                                                       \ntt0111161        The Shawshank Redemption (1994)  1994     9.2  619479  \\\ntt0068646                   The Godfather (1972)  1972     9.2  474189   \ntt0060196  The Good, the Bad and the Ugly (1966)  1966     9.0  195238   \ntt0110912                    Pulp Fiction (1994)  1994     9.0  490065   \ntt0252487                Outrageous Class (1975)  1975     9.0    9823   \n...                                          ...   ...     ...     ...   \ntt0364986                    Ben & Arthur (2002)  2002     1.5    4675   \ntt0060753       Night Train to Mundo Fine (1966)  1966     1.5    3542   \ntt0421051               Daniel the Wizard (2004)  2004     1.5    8271   \ntt0059464                 Monster a-Go Go (1965)  1965     1.5    3255   \ntt0060666        Manos: The Hands of Fate (1966)  1966     1.5   20927   \n\n                Time                               Genre  \nid                                                        \ntt0111161  142 mins.                         Crime|Drama  \ntt0068646  175 mins.                         Crime|Drama  \ntt0060196  161 mins.                             Western  \ntt0110912  154 mins.                      Crime|Thriller  \ntt0252487   87 mins.                        Comedy|Drama  \n...              ...                                 ...  \ntt0364986   85 mins.                       Drama|Romance  \ntt0060753   89 mins.          Action|Adventure|Crime|War  \ntt0421051   81 mins.  Comedy|Crime|Family|Fantasy|Horror  \ntt0059464   70 mins.                       Sci-Fi|Horror  \ntt0060666   74 mins.                              Horror  \n\n[10000 rows x 6 columns]",
      "text/html": "<div>\n<style scoped>\n    .dataframe tbody tr th:only-of-type {\n        vertical-align: middle;\n    }\n\n    .dataframe tbody tr th {\n        vertical-align: top;\n    }\n\n    .dataframe thead th {\n        text-align: right;\n    }\n</style>\n<table border=\"1\" class=\"dataframe\">\n  <thead>\n    <tr style=\"text-align: right;\">\n      <th></th>\n      <th>Names</th>\n      <th>Year</th>\n      <th>Rating</th>\n      <th>Votes</th>\n      <th>Time</th>\n      <th>Genre</th>\n    </tr>\n    <tr>\n      <th>id</th>\n      <th></th>\n      <th></th>\n      <th></th>\n      <th></th>\n      <th></th>\n      <th></th>\n    </tr>\n  </thead>\n  <tbody>\n    <tr>\n      <th>tt0111161</th>\n      <td>The Shawshank Redemption (1994)</td>\n      <td>1994</td>\n      <td>9.2</td>\n      <td>619479</td>\n      <td>142 mins.</td>\n      <td>Crime|Drama</td>\n    </tr>\n    <tr>\n      <th>tt0068646</th>\n      <td>The Godfather (1972)</td>\n      <td>1972</td>\n      <td>9.2</td>\n      <td>474189</td>\n      <td>175 mins.</td>\n      <td>Crime|Drama</td>\n    </tr>\n    <tr>\n      <th>tt0060196</th>\n      <td>The Good, the Bad and the Ugly (1966)</td>\n      <td>1966</td>\n      <td>9.0</td>\n      <td>195238</td>\n      <td>161 mins.</td>\n      <td>Western</td>\n    </tr>\n    <tr>\n      <th>tt0110912</th>\n      <td>Pulp Fiction (1994)</td>\n      <td>1994</td>\n      <td>9.0</td>\n      <td>490065</td>\n      <td>154 mins.</td>\n      <td>Crime|Thriller</td>\n    </tr>\n    <tr>\n      <th>tt0252487</th>\n      <td>Outrageous Class (1975)</td>\n      <td>1975</td>\n      <td>9.0</td>\n      <td>9823</td>\n      <td>87 mins.</td>\n      <td>Comedy|Drama</td>\n    </tr>\n    <tr>\n      <th>...</th>\n      <td>...</td>\n      <td>...</td>\n      <td>...</td>\n      <td>...</td>\n      <td>...</td>\n      <td>...</td>\n    </tr>\n    <tr>\n      <th>tt0364986</th>\n      <td>Ben &amp; Arthur (2002)</td>\n      <td>2002</td>\n      <td>1.5</td>\n      <td>4675</td>\n      <td>85 mins.</td>\n      <td>Drama|Romance</td>\n    </tr>\n    <tr>\n      <th>tt0060753</th>\n      <td>Night Train to Mundo Fine (1966)</td>\n      <td>1966</td>\n      <td>1.5</td>\n      <td>3542</td>\n      <td>89 mins.</td>\n      <td>Action|Adventure|Crime|War</td>\n    </tr>\n    <tr>\n      <th>tt0421051</th>\n      <td>Daniel the Wizard (2004)</td>\n      <td>2004</td>\n      <td>1.5</td>\n      <td>8271</td>\n      <td>81 mins.</td>\n      <td>Comedy|Crime|Family|Fantasy|Horror</td>\n    </tr>\n    <tr>\n      <th>tt0059464</th>\n      <td>Monster a-Go Go (1965)</td>\n      <td>1965</td>\n      <td>1.5</td>\n      <td>3255</td>\n      <td>70 mins.</td>\n      <td>Sci-Fi|Horror</td>\n    </tr>\n    <tr>\n      <th>tt0060666</th>\n      <td>Manos: The Hands of Fate (1966)</td>\n      <td>1966</td>\n      <td>1.5</td>\n      <td>20927</td>\n      <td>74 mins.</td>\n      <td>Horror</td>\n    </tr>\n  </tbody>\n</table>\n<p>10000 rows × 6 columns</p>\n</div>"
     },
     "execution_count": 15,
     "metadata": {},
     "output_type": "execute_result"
    }
   ],
   "source": [
    "data.sort_values(by='Rating',ascending=False)"
   ]
  },
  {
   "cell_type": "code",
   "execution_count": 16,
   "metadata": {
    "ExecuteTime": {
     "start_time": "2023-05-11T13:33:14.268507Z",
     "end_time": "2023-05-11T13:33:14.676971Z"
    },
    "collapsed": false
   },
   "outputs": [
    {
     "data": {
      "text/plain": "                                           Names  Year  Rating   Votes   \nid                                                                       \ntt0270846    Superbabies: Baby Geniuses 2 (2004)  2004     1.5   13196  \\\ntt0059464                 Monster a-Go Go (1965)  1965     1.5    3255   \ntt0364986                    Ben & Arthur (2002)  2002     1.5    4675   \ntt0421051               Daniel the Wizard (2004)  2004     1.5    8271   \ntt1309000                      Dream Well (2009)  2009     1.5    2848   \n...                                          ...   ...     ...     ...   \ntt0071562          The Godfather: Part II (1974)  1974     9.0  291169   \ntt0060196  The Good, the Bad and the Ugly (1966)  1966     9.0  195238   \ntt0110912                    Pulp Fiction (1994)  1994     9.0  490065   \ntt0068646                   The Godfather (1972)  1972     9.2  474189   \ntt0111161        The Shawshank Redemption (1994)  1994     9.2  619479   \n\n                Time                               Genre  \nid                                                        \ntt0270846   88 mins.                       Comedy|Family  \ntt0059464   70 mins.                       Sci-Fi|Horror  \ntt0364986   85 mins.                       Drama|Romance  \ntt0421051   81 mins.  Comedy|Crime|Family|Fantasy|Horror  \ntt1309000   00 mins.                Comedy|Romance|Sport  \n...              ...                                 ...  \ntt0071562  200 mins.                         Crime|Drama  \ntt0060196  161 mins.                             Western  \ntt0110912  154 mins.                      Crime|Thriller  \ntt0068646  175 mins.                         Crime|Drama  \ntt0111161  142 mins.                         Crime|Drama  \n\n[10000 rows x 6 columns]",
      "text/html": "<div>\n<style scoped>\n    .dataframe tbody tr th:only-of-type {\n        vertical-align: middle;\n    }\n\n    .dataframe tbody tr th {\n        vertical-align: top;\n    }\n\n    .dataframe thead th {\n        text-align: right;\n    }\n</style>\n<table border=\"1\" class=\"dataframe\">\n  <thead>\n    <tr style=\"text-align: right;\">\n      <th></th>\n      <th>Names</th>\n      <th>Year</th>\n      <th>Rating</th>\n      <th>Votes</th>\n      <th>Time</th>\n      <th>Genre</th>\n    </tr>\n    <tr>\n      <th>id</th>\n      <th></th>\n      <th></th>\n      <th></th>\n      <th></th>\n      <th></th>\n      <th></th>\n    </tr>\n  </thead>\n  <tbody>\n    <tr>\n      <th>tt0270846</th>\n      <td>Superbabies: Baby Geniuses 2 (2004)</td>\n      <td>2004</td>\n      <td>1.5</td>\n      <td>13196</td>\n      <td>88 mins.</td>\n      <td>Comedy|Family</td>\n    </tr>\n    <tr>\n      <th>tt0059464</th>\n      <td>Monster a-Go Go (1965)</td>\n      <td>1965</td>\n      <td>1.5</td>\n      <td>3255</td>\n      <td>70 mins.</td>\n      <td>Sci-Fi|Horror</td>\n    </tr>\n    <tr>\n      <th>tt0364986</th>\n      <td>Ben &amp; Arthur (2002)</td>\n      <td>2002</td>\n      <td>1.5</td>\n      <td>4675</td>\n      <td>85 mins.</td>\n      <td>Drama|Romance</td>\n    </tr>\n    <tr>\n      <th>tt0421051</th>\n      <td>Daniel the Wizard (2004)</td>\n      <td>2004</td>\n      <td>1.5</td>\n      <td>8271</td>\n      <td>81 mins.</td>\n      <td>Comedy|Crime|Family|Fantasy|Horror</td>\n    </tr>\n    <tr>\n      <th>tt1309000</th>\n      <td>Dream Well (2009)</td>\n      <td>2009</td>\n      <td>1.5</td>\n      <td>2848</td>\n      <td>00 mins.</td>\n      <td>Comedy|Romance|Sport</td>\n    </tr>\n    <tr>\n      <th>...</th>\n      <td>...</td>\n      <td>...</td>\n      <td>...</td>\n      <td>...</td>\n      <td>...</td>\n      <td>...</td>\n    </tr>\n    <tr>\n      <th>tt0071562</th>\n      <td>The Godfather: Part II (1974)</td>\n      <td>1974</td>\n      <td>9.0</td>\n      <td>291169</td>\n      <td>200 mins.</td>\n      <td>Crime|Drama</td>\n    </tr>\n    <tr>\n      <th>tt0060196</th>\n      <td>The Good, the Bad and the Ugly (1966)</td>\n      <td>1966</td>\n      <td>9.0</td>\n      <td>195238</td>\n      <td>161 mins.</td>\n      <td>Western</td>\n    </tr>\n    <tr>\n      <th>tt0110912</th>\n      <td>Pulp Fiction (1994)</td>\n      <td>1994</td>\n      <td>9.0</td>\n      <td>490065</td>\n      <td>154 mins.</td>\n      <td>Crime|Thriller</td>\n    </tr>\n    <tr>\n      <th>tt0068646</th>\n      <td>The Godfather (1972)</td>\n      <td>1972</td>\n      <td>9.2</td>\n      <td>474189</td>\n      <td>175 mins.</td>\n      <td>Crime|Drama</td>\n    </tr>\n    <tr>\n      <th>tt0111161</th>\n      <td>The Shawshank Redemption (1994)</td>\n      <td>1994</td>\n      <td>9.2</td>\n      <td>619479</td>\n      <td>142 mins.</td>\n      <td>Crime|Drama</td>\n    </tr>\n  </tbody>\n</table>\n<p>10000 rows × 6 columns</p>\n</div>"
     },
     "execution_count": 16,
     "metadata": {},
     "output_type": "execute_result"
    }
   ],
   "source": [
    "data.sort_values(by='Rating')"
   ]
  },
  {
   "cell_type": "code",
   "execution_count": 17,
   "metadata": {
    "ExecuteTime": {
     "start_time": "2023-05-11T13:33:14.306182Z",
     "end_time": "2023-05-11T13:33:14.676971Z"
    },
    "collapsed": false
   },
   "outputs": [],
   "source": [
    "sample_data = {\n",
    "   'tv': [230.1, 44.5, 17.2],\n",
    "   'radio': [37.8, 39.3, 45.9],\n",
    "   'news': [69.2, 45.1, 69.3],\n",
    "   'sales': [22.1, 10.4, 9.3]\n",
    "}\n",
    "data2=pd.DataFrame(sample_data)\n"
   ]
  },
  {
   "cell_type": "code",
   "execution_count": 18,
   "metadata": {
    "ExecuteTime": {
     "start_time": "2023-05-11T13:33:14.321998Z",
     "end_time": "2023-05-11T13:33:14.689703Z"
    },
    "collapsed": false
   },
   "outputs": [
    {
     "data": {
      "text/plain": "      tv  radio  news  sales\n0  230.1   37.8  69.2   22.1\n1   44.5   39.3  45.1   10.4\n2   17.2   45.9  69.3    9.3",
      "text/html": "<div>\n<style scoped>\n    .dataframe tbody tr th:only-of-type {\n        vertical-align: middle;\n    }\n\n    .dataframe tbody tr th {\n        vertical-align: top;\n    }\n\n    .dataframe thead th {\n        text-align: right;\n    }\n</style>\n<table border=\"1\" class=\"dataframe\">\n  <thead>\n    <tr style=\"text-align: right;\">\n      <th></th>\n      <th>tv</th>\n      <th>radio</th>\n      <th>news</th>\n      <th>sales</th>\n    </tr>\n  </thead>\n  <tbody>\n    <tr>\n      <th>0</th>\n      <td>230.1</td>\n      <td>37.8</td>\n      <td>69.2</td>\n      <td>22.1</td>\n    </tr>\n    <tr>\n      <th>1</th>\n      <td>44.5</td>\n      <td>39.3</td>\n      <td>45.1</td>\n      <td>10.4</td>\n    </tr>\n    <tr>\n      <th>2</th>\n      <td>17.2</td>\n      <td>45.9</td>\n      <td>69.3</td>\n      <td>9.3</td>\n    </tr>\n  </tbody>\n</table>\n</div>"
     },
     "execution_count": 18,
     "metadata": {},
     "output_type": "execute_result"
    }
   ],
   "source": [
    "data2"
   ]
  },
  {
   "cell_type": "code",
   "execution_count": 19,
   "metadata": {
    "ExecuteTime": {
     "start_time": "2023-05-11T13:33:14.355097Z",
     "end_time": "2023-05-11T13:33:14.692879Z"
    },
    "collapsed": false
   },
   "outputs": [],
   "source": [
    "del data2"
   ]
  },
  {
   "cell_type": "markdown",
   "metadata": {
    "collapsed": false
   },
   "source": [
    "#SELECTING DATA"
   ]
  },
  {
   "cell_type": "code",
   "execution_count": 20,
   "metadata": {
    "ExecuteTime": {
     "start_time": "2023-05-11T13:33:14.383170Z",
     "end_time": "2023-05-11T13:33:14.796079Z"
    },
    "collapsed": false
   },
   "outputs": [
    {
     "data": {
      "text/plain": "id\ntt0111161    The Shawshank Redemption (1994)\ntt0110912                Pulp Fiction (1994)\ntt0137523                  Fight Club (1999)\ntt0133093                  The Matrix (1999)\ntt1375666                   Inception (2010)\n                          ...               \ntt0807721                     Meduzot (2007)\ntt0339642              Daltry Calhoun (2005)\ntt0060880      The Quiller Memorandum (1966)\ntt0152836                        Taal (1999)\ntt0279977              The Navigators (2001)\nName: Names, Length: 10000, dtype: object"
     },
     "execution_count": 20,
     "metadata": {},
     "output_type": "execute_result"
    }
   ],
   "source": [
    "import pandas as pd\n",
    "names=('id','Names','Year','Rating','Votes','Time','Genre')\n",
    "data=pd.read_csv('imdb_top_10000.txt',sep='\\t',names=names,index_col=0)\n",
    "data['Names']\n"
   ]
  },
  {
   "cell_type": "code",
   "execution_count": 21,
   "metadata": {
    "ExecuteTime": {
     "start_time": "2023-05-11T13:33:14.444430Z",
     "end_time": "2023-05-11T13:33:14.796079Z"
    },
    "collapsed": false
   },
   "outputs": [
    {
     "data": {
      "text/plain": "                                     Names  Year\nid                                              \ntt0111161  The Shawshank Redemption (1994)  1994\ntt0110912              Pulp Fiction (1994)  1994\ntt0137523                Fight Club (1999)  1999\ntt0133093                The Matrix (1999)  1999\ntt1375666                 Inception (2010)  2010\n...                                    ...   ...\ntt0807721                   Meduzot (2007)  2007\ntt0339642            Daltry Calhoun (2005)  2005\ntt0060880    The Quiller Memorandum (1966)  1966\ntt0152836                      Taal (1999)  1999\ntt0279977            The Navigators (2001)  2001\n\n[10000 rows x 2 columns]",
      "text/html": "<div>\n<style scoped>\n    .dataframe tbody tr th:only-of-type {\n        vertical-align: middle;\n    }\n\n    .dataframe tbody tr th {\n        vertical-align: top;\n    }\n\n    .dataframe thead th {\n        text-align: right;\n    }\n</style>\n<table border=\"1\" class=\"dataframe\">\n  <thead>\n    <tr style=\"text-align: right;\">\n      <th></th>\n      <th>Names</th>\n      <th>Year</th>\n    </tr>\n    <tr>\n      <th>id</th>\n      <th></th>\n      <th></th>\n    </tr>\n  </thead>\n  <tbody>\n    <tr>\n      <th>tt0111161</th>\n      <td>The Shawshank Redemption (1994)</td>\n      <td>1994</td>\n    </tr>\n    <tr>\n      <th>tt0110912</th>\n      <td>Pulp Fiction (1994)</td>\n      <td>1994</td>\n    </tr>\n    <tr>\n      <th>tt0137523</th>\n      <td>Fight Club (1999)</td>\n      <td>1999</td>\n    </tr>\n    <tr>\n      <th>tt0133093</th>\n      <td>The Matrix (1999)</td>\n      <td>1999</td>\n    </tr>\n    <tr>\n      <th>tt1375666</th>\n      <td>Inception (2010)</td>\n      <td>2010</td>\n    </tr>\n    <tr>\n      <th>...</th>\n      <td>...</td>\n      <td>...</td>\n    </tr>\n    <tr>\n      <th>tt0807721</th>\n      <td>Meduzot (2007)</td>\n      <td>2007</td>\n    </tr>\n    <tr>\n      <th>tt0339642</th>\n      <td>Daltry Calhoun (2005)</td>\n      <td>2005</td>\n    </tr>\n    <tr>\n      <th>tt0060880</th>\n      <td>The Quiller Memorandum (1966)</td>\n      <td>1966</td>\n    </tr>\n    <tr>\n      <th>tt0152836</th>\n      <td>Taal (1999)</td>\n      <td>1999</td>\n    </tr>\n    <tr>\n      <th>tt0279977</th>\n      <td>The Navigators (2001)</td>\n      <td>2001</td>\n    </tr>\n  </tbody>\n</table>\n<p>10000 rows × 2 columns</p>\n</div>"
     },
     "execution_count": 21,
     "metadata": {},
     "output_type": "execute_result"
    }
   ],
   "source": [
    "data[['Names','Year']]"
   ]
  },
  {
   "cell_type": "code",
   "execution_count": 22,
   "metadata": {
    "ExecuteTime": {
     "start_time": "2023-05-11T13:33:14.481710Z",
     "end_time": "2023-05-11T13:33:14.797457Z"
    },
    "collapsed": false
   },
   "outputs": [
    {
     "data": {
      "text/plain": "9.2"
     },
     "execution_count": 22,
     "metadata": {},
     "output_type": "execute_result"
    }
   ],
   "source": [
    "data['Rating'].max()\n"
   ]
  },
  {
   "cell_type": "code",
   "execution_count": 23,
   "metadata": {
    "ExecuteTime": {
     "start_time": "2023-05-11T13:33:14.492497Z",
     "end_time": "2023-05-11T13:33:14.830787Z"
    },
    "collapsed": false
   },
   "outputs": [
    {
     "data": {
      "text/plain": "1.5"
     },
     "execution_count": 23,
     "metadata": {},
     "output_type": "execute_result"
    }
   ],
   "source": [
    "data['Rating'].min()"
   ]
  },
  {
   "cell_type": "code",
   "execution_count": 24,
   "metadata": {
    "ExecuteTime": {
     "start_time": "2023-05-11T13:33:14.519801Z",
     "end_time": "2023-05-11T13:33:14.960827Z"
    },
    "collapsed": false
   },
   "outputs": [
    {
     "data": {
      "text/plain": "6.38607"
     },
     "execution_count": 24,
     "metadata": {},
     "output_type": "execute_result"
    }
   ],
   "source": [
    "data['Rating'].mean()"
   ]
  },
  {
   "cell_type": "code",
   "execution_count": 25,
   "metadata": {
    "ExecuteTime": {
     "start_time": "2023-05-11T13:33:14.536538Z",
     "end_time": "2023-05-11T13:33:15.041893Z"
    },
    "collapsed": false
   },
   "outputs": [
    {
     "data": {
      "text/plain": "Rating\n7.1    401\n6.8    401\n7.2    386\n6.7    384\n7.0    382\n      ... \n1.5      7\n1.6      6\n8.9      5\n9.0      4\n9.2      2\nName: count, Length: 77, dtype: int64"
     },
     "execution_count": 25,
     "metadata": {},
     "output_type": "execute_result"
    }
   ],
   "source": [
    "data['Rating'].value_counts()"
   ]
  },
  {
   "cell_type": "code",
   "execution_count": 26,
   "metadata": {
    "ExecuteTime": {
     "start_time": "2023-05-11T13:33:14.586628Z",
     "end_time": "2023-05-11T13:33:15.114804Z"
    },
    "collapsed": false
   },
   "outputs": [
    {
     "data": {
      "text/plain": "Rating\n1.5     7\n1.6     6\n1.7    12\n1.8    12\n1.9     9\n       ..\n8.7    13\n8.8     9\n8.9     5\n9.0     4\n9.2     2\nName: count, Length: 77, dtype: int64"
     },
     "execution_count": 26,
     "metadata": {},
     "output_type": "execute_result"
    }
   ],
   "source": [
    "data['Rating'].value_counts().sort_index()"
   ]
  },
  {
   "cell_type": "code",
   "execution_count": 27,
   "metadata": {
    "ExecuteTime": {
     "start_time": "2023-05-11T13:33:14.618634Z",
     "end_time": "2023-05-11T13:33:15.143275Z"
    },
    "collapsed": false
   },
   "outputs": [
    {
     "data": {
      "text/plain": "Rating\n9.2     2\n9.0     4\n8.9     5\n8.8     9\n8.7    13\n       ..\n1.9     9\n1.8    12\n1.7    12\n1.6     6\n1.5     7\nName: count, Length: 77, dtype: int64"
     },
     "execution_count": 27,
     "metadata": {},
     "output_type": "execute_result"
    }
   ],
   "source": [
    "data['Rating'].value_counts().sort_index(ascending=False)"
   ]
  },
  {
   "cell_type": "code",
   "execution_count": 28,
   "metadata": {
    "ExecuteTime": {
     "start_time": "2023-05-11T13:33:14.657150Z",
     "end_time": "2023-05-11T13:33:15.144272Z"
    },
    "collapsed": false
   },
   "outputs": [
    {
     "data": {
      "text/plain": "array(['Crime|Drama', 'Crime|Thriller', 'Drama|Mystery|Thriller', ...,\n       'Drama|War|Adventure|Romance', 'Western|Sci-Fi|Thriller',\n       'Adventure|Comedy|Drama|War'], dtype=object)"
     },
     "execution_count": 28,
     "metadata": {},
     "output_type": "execute_result"
    }
   ],
   "source": [
    "data['Genre'].unique()"
   ]
  },
  {
   "cell_type": "markdown",
   "metadata": {
    "collapsed": false
   },
   "source": [
    "#PLOTTING"
   ]
  },
  {
   "cell_type": "code",
   "execution_count": 29,
   "metadata": {
    "ExecuteTime": {
     "start_time": "2023-05-11T13:33:14.684433Z",
     "end_time": "2023-05-11T13:33:18.853922Z"
    },
    "collapsed": false
   },
   "outputs": [
    {
     "data": {
      "text/plain": "<Axes: xlabel='id'>"
     },
     "execution_count": 29,
     "metadata": {},
     "output_type": "execute_result"
    },
    {
     "data": {
      "text/plain": "<Figure size 640x480 with 1 Axes>",
      "image/png": "[encoded data removed]"
     },
     "metadata": {},
     "output_type": "display_data"
    }
   ],
   "source": [
    "%matplotlib inline\n",
    "data.plot()"
   ]
  },
  {
   "cell_type": "code",
   "execution_count": 30,
   "metadata": {
    "ExecuteTime": {
     "start_time": "2023-05-11T13:33:18.838735Z",
     "end_time": "2023-05-11T13:33:19.424753Z"
    },
    "collapsed": false
   },
   "outputs": [
    {
     "data": {
      "text/plain": "<Axes: xlabel='id'>"
     },
     "execution_count": 30,
     "metadata": {},
     "output_type": "execute_result"
    },
    {
     "data": {
      "text/plain": "<Figure size 640x480 with 1 Axes>",
      "image/png": "[encoded data removed]"
     },
     "metadata": {},
     "output_type": "display_data"
    }
   ],
   "source": [
    "data['Rating'].plot()"
   ]
  },
  {
   "cell_type": "code",
   "execution_count": 31,
   "metadata": {
    "ExecuteTime": {
     "start_time": "2023-05-11T13:33:19.424753Z",
     "end_time": "2023-05-11T13:33:19.786872Z"
    },
    "collapsed": false
   },
   "outputs": [
    {
     "data": {
      "text/plain": "<Axes: ylabel='Frequency'>"
     },
     "execution_count": 31,
     "metadata": {},
     "output_type": "execute_result"
    },
    {
     "data": {
      "text/plain": "<Figure size 640x480 with 1 Axes>",
      "image/png": "[encoded data removed]"
     },
     "metadata": {},
     "output_type": "display_data"
    }
   ],
   "source": [
    "data['Rating'].plot(kind='hist')"
   ]
  },
  {
   "cell_type": "code",
   "execution_count": 32,
   "metadata": {
    "ExecuteTime": {
     "start_time": "2023-05-11T13:33:19.786872Z",
     "end_time": "2023-05-11T13:33:20.266762Z"
    },
    "collapsed": false
   },
   "outputs": [
    {
     "data": {
      "text/plain": "<Axes: xlabel='Rating', ylabel='Votes'>"
     },
     "execution_count": 32,
     "metadata": {},
     "output_type": "execute_result"
    },
    {
     "data": {
      "text/plain": "<Figure size 640x480 with 1 Axes>",
      "image/png": "[encoded data removed]"
     },
     "metadata": {},
     "output_type": "display_data"
    }
   ],
   "source": [
    "data.plot(kind='scatter', x='Rating', y='Votes')"
   ]
  },
  {
   "cell_type": "code",
   "execution_count": 33,
   "metadata": {
    "ExecuteTime": {
     "start_time": "2023-05-11T13:33:20.278925Z",
     "end_time": "2023-05-11T13:33:21.040942Z"
    },
    "collapsed": false
   },
   "outputs": [
    {
     "data": {
      "text/plain": "<Axes: xlabel='Rating', ylabel='Votes'>"
     },
     "execution_count": 33,
     "metadata": {},
     "output_type": "execute_result"
    },
    {
     "data": {
      "text/plain": "<Figure size 640x480 with 1 Axes>",
      "image/png": "[encoded data removed]"
     },
     "metadata": {},
     "output_type": "display_data"
    },
    {
     "data": {
      "text/plain": "<Figure size 640x480 with 1 Axes>",
      "image/png": "[encoded data removed]"
     },
     "metadata": {},
     "output_type": "display_data"
    }
   ],
   "source": [
    "data['Rating'].plot(kind='hist')\n",
    "data.plot(kind='scatter', x='Rating', y='Votes',alpha=0.3)"
   ]
  },
  {
   "cell_type": "code",
   "execution_count": 34,
   "metadata": {
    "collapsed": false
   },
   "outputs": [
    {
     "ename": "ModuleNotFoundError",
     "evalue": "No module named 'seaborn'",
     "output_type": "error",
     "traceback": [
      "\u001B[1;31m---------------------------------------------------------------------------\u001B[0m",
      "\u001B[1;31mModuleNotFoundError\u001B[0m                       Traceback (most recent call last)",
      "Cell \u001B[1;32mIn[34], line 1\u001B[0m\n\u001B[1;32m----> 1\u001B[0m \u001B[38;5;28;01mimport\u001B[39;00m \u001B[38;5;21;01mseaborn\u001B[39;00m \u001B[38;5;28;01mas\u001B[39;00m \u001B[38;5;21;01msns\u001B[39;00m\n",
      "\u001B[1;31mModuleNotFoundError\u001B[0m: No module named 'seaborn'"
     ]
    }
   ],
   "source": [
    "import seaborn as sns\n"
   ]
  },
  {
   "cell_type": "code",
   "execution_count": null,
   "metadata": {
    "collapsed": false
   },
   "outputs": [],
   "source": [
    "import statsmodels.api as sm"
   ]
  },
  {
   "cell_type": "markdown",
   "metadata": {
    "collapsed": false
   },
   "source": [
    "#ADVANCED DATA SELECTION"
   ]
  },
  {
   "cell_type": "code",
   "execution_count": null,
   "metadata": {
    "ExecuteTime": {
     "end_time": "2023-05-03T13:34:31.530094Z",
     "start_time": "2023-05-03T13:34:31.487844Z"
    },
    "collapsed": false
   },
   "outputs": [],
   "source": [
    "data['Year']"
   ]
  },
  {
   "cell_type": "code",
   "execution_count": null,
   "metadata": {
    "ExecuteTime": {
     "end_time": "2023-05-03T13:35:37.926245Z",
     "start_time": "2023-05-03T13:35:37.860757Z"
    },
    "collapsed": false
   },
   "outputs": [],
   "source": [
    "data[data['Year']>1995]"
   ]
  },
  {
   "cell_type": "code",
   "execution_count": null,
   "metadata": {
    "ExecuteTime": {
     "end_time": "2023-05-03T13:36:06.190805Z",
     "start_time": "2023-05-03T13:36:06.119951Z"
    },
    "collapsed": false
   },
   "outputs": [],
   "source": [
    "data[data['Year']==1996]"
   ]
  },
  {
   "cell_type": "code",
   "execution_count": null,
   "metadata": {
    "ExecuteTime": {
     "end_time": "2023-05-03T13:38:44.527605Z",
     "start_time": "2023-05-03T13:38:44.425017Z"
    },
    "collapsed": false
   },
   "outputs": [],
   "source": [
    "data[(data['Year']>1995)&(data['Year']<2000)]"
   ]
  },
  {
   "cell_type": "code",
   "execution_count": null,
   "metadata": {
    "ExecuteTime": {
     "end_time": "2023-05-03T13:40:05.416076Z",
     "start_time": "2023-05-03T13:40:05.361051Z"
    },
    "collapsed": false
   },
   "outputs": [],
   "source": [
    "data[(data['Year'] > 1995) & (data['Year'] < 2000)].sort_values(by='Rating', ascending=False).head(10)"
   ]
  },
  {
   "cell_type": "code",
   "execution_count": null,
   "metadata": {
    "ExecuteTime": {
     "end_time": "2023-05-03T13:44:50.792593Z",
     "start_time": "2023-05-03T13:44:50.698594Z"
    },
    "collapsed": false
   },
   "outputs": [],
   "source": [
    "data.groupby(data['Year'])['Rating'].mean()"
   ]
  },
  {
   "cell_type": "code",
   "execution_count": null,
   "metadata": {
    "ExecuteTime": {
     "end_time": "2023-05-03T13:45:13.848637Z",
     "start_time": "2023-05-03T13:45:13.686691Z"
    },
    "collapsed": false
   },
   "outputs": [],
   "source": [
    "data.groupby(data['Year'])['Rating'].max()"
   ]
  },
  {
   "cell_type": "code",
   "execution_count": null,
   "metadata": {
    "ExecuteTime": {
     "end_time": "2023-05-03T13:45:23.311195Z",
     "start_time": "2023-05-03T13:45:23.231417Z"
    },
    "collapsed": false
   },
   "outputs": [],
   "source": [
    "data.groupby(data['Year'])['Rating'].min()"
   ]
  },
  {
   "cell_type": "markdown",
   "metadata": {
    "collapsed": false
   },
   "source": [
    "#CHALLENGES\n",
    "1.what was the higest scoring movie in 1996\n",
    "2.In what year was highest rated movie of al time made\n",
    "3.what five movies have the most votes ever\n",
    "4.What year in the 1960s had the hisghest average movie rating?\n"
   ]
  },
  {
   "cell_type": "code",
   "execution_count": 37,
   "metadata": {
    "ExecuteTime": {
     "start_time": "2023-05-11T13:34:32.645831Z",
     "end_time": "2023-05-11T13:34:32.675928Z"
    },
    "collapsed": false
   },
   "outputs": [
    {
     "data": {
      "text/plain": "                       Names  Year  Rating   Votes       Time   \nid                                                              \ntt0116282       Fargo (1996)  1996     8.3  187498   98 mins.  \\\ntt0116231  The Bandit (1996)  1996     8.3   13288  121 mins.   \n\n                                         Genre  \nid                                              \ntt0116282                 Crime|Drama|Thriller  \ntt0116231  Action|Crime|Drama|Romance|Thriller  ",
      "text/html": "<div>\n<style scoped>\n    .dataframe tbody tr th:only-of-type {\n        vertical-align: middle;\n    }\n\n    .dataframe tbody tr th {\n        vertical-align: top;\n    }\n\n    .dataframe thead th {\n        text-align: right;\n    }\n</style>\n<table border=\"1\" class=\"dataframe\">\n  <thead>\n    <tr style=\"text-align: right;\">\n      <th></th>\n      <th>Names</th>\n      <th>Year</th>\n      <th>Rating</th>\n      <th>Votes</th>\n      <th>Time</th>\n      <th>Genre</th>\n    </tr>\n    <tr>\n      <th>id</th>\n      <th></th>\n      <th></th>\n      <th></th>\n      <th></th>\n      <th></th>\n      <th></th>\n    </tr>\n  </thead>\n  <tbody>\n    <tr>\n      <th>tt0116282</th>\n      <td>Fargo (1996)</td>\n      <td>1996</td>\n      <td>8.3</td>\n      <td>187498</td>\n      <td>98 mins.</td>\n      <td>Crime|Drama|Thriller</td>\n    </tr>\n    <tr>\n      <th>tt0116231</th>\n      <td>The Bandit (1996)</td>\n      <td>1996</td>\n      <td>8.3</td>\n      <td>13288</td>\n      <td>121 mins.</td>\n      <td>Action|Crime|Drama|Romance|Thriller</td>\n    </tr>\n  </tbody>\n</table>\n</div>"
     },
     "execution_count": 37,
     "metadata": {},
     "output_type": "execute_result"
    }
   ],
   "source": [
    "data[data['Year']==1996].sort_values(by='Rating',ascending=False).head(2)"
   ]
  },
  {
   "cell_type": "code",
   "execution_count": null,
   "metadata": {
    "ExecuteTime": {
     "end_time": "2023-05-03T14:10:42.540549Z",
     "start_time": "2023-05-03T14:10:42.498992Z"
    },
    "collapsed": false
   },
   "outputs": [],
   "source": [
    "data.sort_values(by='Rating',ascending=False)"
   ]
  },
  {
   "cell_type": "code",
   "execution_count": null,
   "metadata": {
    "ExecuteTime": {
     "end_time": "2023-05-03T14:26:51.478814Z",
     "start_time": "2023-05-03T14:26:49.860492Z"
    },
    "collapsed": false
   },
   "outputs": [],
   "source": [
    "import pandas as pd\n",
    "names=('id','Names','Year','Rating','Votes','Time','Genre')\n",
    "data=pd.read_csv('imdb_top_10000.txt',sep='\\t',names=names,index_col=0)\n",
    "data['Rating'].max()"
   ]
  },
  {
   "cell_type": "markdown",
   "source": [],
   "metadata": {
    "collapsed": false
   }
  },
  {
   "cell_type": "code",
   "execution_count": null,
   "metadata": {
    "ExecuteTime": {
     "end_time": "2023-05-03T14:27:12.862684Z",
     "start_time": "2023-05-03T14:27:12.589802Z"
    },
    "collapsed": false
   },
   "outputs": [],
   "source": [
    "data[data['Rating'] == data['Rating'].max()]"
   ]
  },
  {
   "cell_type": "code",
   "execution_count": 47,
   "metadata": {
    "ExecuteTime": {
     "start_time": "2023-05-11T13:37:06.457434Z",
     "end_time": "2023-05-11T13:37:06.494033Z"
    },
    "collapsed": false
   },
   "outputs": [
    {
     "data": {
      "text/plain": "                                     Names  Year  Rating   Votes       Time   \nid                                                                            \ntt0111161  The Shawshank Redemption (1994)  1994     9.2  619479  142 mins.  \\\ntt0468569           The Dark Knight (2008)  2008     8.9  555122  152 mins.   \ntt0110912              Pulp Fiction (1994)  1994     9.0  490065  154 mins.   \ntt0068646             The Godfather (1972)  1972     9.2  474189  175 mins.   \ntt0137523                Fight Club (1999)  1999     8.8  458173  139 mins.   \n\n                                 Genre           formatted Names  \nid                                                                \ntt0111161                  Crime|Drama  The Shawshank Redemption  \ntt0468569  Action|Crime|Drama|Thriller           The Dark Knight  \ntt0110912               Crime|Thriller              Pulp Fiction  \ntt0068646                  Crime|Drama             The Godfather  \ntt0137523       Drama|Mystery|Thriller                Fight Club  ",
      "text/html": "<div>\n<style scoped>\n    .dataframe tbody tr th:only-of-type {\n        vertical-align: middle;\n    }\n\n    .dataframe tbody tr th {\n        vertical-align: top;\n    }\n\n    .dataframe thead th {\n        text-align: right;\n    }\n</style>\n<table border=\"1\" class=\"dataframe\">\n  <thead>\n    <tr style=\"text-align: right;\">\n      <th></th>\n      <th>Names</th>\n      <th>Year</th>\n      <th>Rating</th>\n      <th>Votes</th>\n      <th>Time</th>\n      <th>Genre</th>\n      <th>formatted Names</th>\n    </tr>\n    <tr>\n      <th>id</th>\n      <th></th>\n      <th></th>\n      <th></th>\n      <th></th>\n      <th></th>\n      <th></th>\n      <th></th>\n    </tr>\n  </thead>\n  <tbody>\n    <tr>\n      <th>tt0111161</th>\n      <td>The Shawshank Redemption (1994)</td>\n      <td>1994</td>\n      <td>9.2</td>\n      <td>619479</td>\n      <td>142 mins.</td>\n      <td>Crime|Drama</td>\n      <td>The Shawshank Redemption</td>\n    </tr>\n    <tr>\n      <th>tt0468569</th>\n      <td>The Dark Knight (2008)</td>\n      <td>2008</td>\n      <td>8.9</td>\n      <td>555122</td>\n      <td>152 mins.</td>\n      <td>Action|Crime|Drama|Thriller</td>\n      <td>The Dark Knight</td>\n    </tr>\n    <tr>\n      <th>tt0110912</th>\n      <td>Pulp Fiction (1994)</td>\n      <td>1994</td>\n      <td>9.0</td>\n      <td>490065</td>\n      <td>154 mins.</td>\n      <td>Crime|Thriller</td>\n      <td>Pulp Fiction</td>\n    </tr>\n    <tr>\n      <th>tt0068646</th>\n      <td>The Godfather (1972)</td>\n      <td>1972</td>\n      <td>9.2</td>\n      <td>474189</td>\n      <td>175 mins.</td>\n      <td>Crime|Drama</td>\n      <td>The Godfather</td>\n    </tr>\n    <tr>\n      <th>tt0137523</th>\n      <td>Fight Club (1999)</td>\n      <td>1999</td>\n      <td>8.8</td>\n      <td>458173</td>\n      <td>139 mins.</td>\n      <td>Drama|Mystery|Thriller</td>\n      <td>Fight Club</td>\n    </tr>\n  </tbody>\n</table>\n</div>"
     },
     "execution_count": 47,
     "metadata": {},
     "output_type": "execute_result"
    }
   ],
   "source": [
    "data.sort_values(by='Votes', ascending=False).head(5)"
   ]
  },
  {
   "cell_type": "code",
   "execution_count": null,
   "metadata": {
    "ExecuteTime": {
     "end_time": "2023-05-03T14:28:15.271189Z",
     "start_time": "2023-05-03T14:28:15.096468Z"
    },
    "collapsed": false
   },
   "outputs": [],
   "source": [
    "data[(data['Year'] >= 1960) & (data['Year'] <= 1970)].groupby(data['Year'])['Rating'].mean()"
   ]
  },
  {
   "cell_type": "markdown",
   "metadata": {
    "collapsed": false
   },
   "source": [
    "\n",
    "#CLEANING DATA"
   ]
  },
  {
   "cell_type": "code",
   "execution_count": 40,
   "metadata": {
    "ExecuteTime": {
     "start_time": "2023-05-11T13:35:39.696969Z",
     "end_time": "2023-05-11T13:35:39.714959Z"
    },
    "collapsed": false
   },
   "outputs": [
    {
     "data": {
      "text/plain": "(id\n tt0111161    The Shawshank Redemption\n tt0110912                Pulp Fiction\n tt0137523                  Fight Club\n tt0133093                  The Matrix\n tt1375666                   Inception\n                        ...           \n tt0807721                     Meduzot\n tt0339642              Daltry Calhoun\n tt0060880      The Quiller Memorandum\n tt0152836                        Taal\n tt0279977              The Navigators\n Name: Names, Length: 10000, dtype: object,)"
     },
     "execution_count": 40,
     "metadata": {},
     "output_type": "execute_result"
    }
   ],
   "source": [
    "data['Names'].str[:-7],"
   ]
  },
  {
   "cell_type": "code",
   "execution_count": 42,
   "metadata": {
    "ExecuteTime": {
     "start_time": "2023-05-11T13:35:49.614395Z",
     "end_time": "2023-05-11T13:35:49.652783Z"
    },
    "collapsed": false
   },
   "outputs": [],
   "source": [
    "data['formatted Names']=data['Names'].str[:-7]"
   ]
  },
  {
   "cell_type": "code",
   "execution_count": 43,
   "metadata": {
    "ExecuteTime": {
     "start_time": "2023-05-11T13:35:51.234075Z",
     "end_time": "2023-05-11T13:35:51.293297Z"
    },
    "collapsed": false
   },
   "outputs": [
    {
     "data": {
      "text/plain": "                                     Names  Year  Rating   Votes       Time   \nid                                                                            \ntt0111161  The Shawshank Redemption (1994)  1994     9.2  619479  142 mins.  \\\ntt0110912              Pulp Fiction (1994)  1994     9.0  490065  154 mins.   \ntt0137523                Fight Club (1999)  1999     8.8  458173  139 mins.   \ntt0133093                The Matrix (1999)  1999     8.7  448114  136 mins.   \ntt1375666                 Inception (2010)  2010     8.9  385149  148 mins.   \n\n                                      Genre           formatted Names  \nid                                                                     \ntt0111161                       Crime|Drama  The Shawshank Redemption  \ntt0110912                    Crime|Thriller              Pulp Fiction  \ntt0137523            Drama|Mystery|Thriller                Fight Club  \ntt0133093           Action|Adventure|Sci-Fi                The Matrix  \ntt1375666  Action|Adventure|Sci-Fi|Thriller                 Inception  ",
      "text/html": "<div>\n<style scoped>\n    .dataframe tbody tr th:only-of-type {\n        vertical-align: middle;\n    }\n\n    .dataframe tbody tr th {\n        vertical-align: top;\n    }\n\n    .dataframe thead th {\n        text-align: right;\n    }\n</style>\n<table border=\"1\" class=\"dataframe\">\n  <thead>\n    <tr style=\"text-align: right;\">\n      <th></th>\n      <th>Names</th>\n      <th>Year</th>\n      <th>Rating</th>\n      <th>Votes</th>\n      <th>Time</th>\n      <th>Genre</th>\n      <th>formatted Names</th>\n    </tr>\n    <tr>\n      <th>id</th>\n      <th></th>\n      <th></th>\n      <th></th>\n      <th></th>\n      <th></th>\n      <th></th>\n      <th></th>\n    </tr>\n  </thead>\n  <tbody>\n    <tr>\n      <th>tt0111161</th>\n      <td>The Shawshank Redemption (1994)</td>\n      <td>1994</td>\n      <td>9.2</td>\n      <td>619479</td>\n      <td>142 mins.</td>\n      <td>Crime|Drama</td>\n      <td>The Shawshank Redemption</td>\n    </tr>\n    <tr>\n      <th>tt0110912</th>\n      <td>Pulp Fiction (1994)</td>\n      <td>1994</td>\n      <td>9.0</td>\n      <td>490065</td>\n      <td>154 mins.</td>\n      <td>Crime|Thriller</td>\n      <td>Pulp Fiction</td>\n    </tr>\n    <tr>\n      <th>tt0137523</th>\n      <td>Fight Club (1999)</td>\n      <td>1999</td>\n      <td>8.8</td>\n      <td>458173</td>\n      <td>139 mins.</td>\n      <td>Drama|Mystery|Thriller</td>\n      <td>Fight Club</td>\n    </tr>\n    <tr>\n      <th>tt0133093</th>\n      <td>The Matrix (1999)</td>\n      <td>1999</td>\n      <td>8.7</td>\n      <td>448114</td>\n      <td>136 mins.</td>\n      <td>Action|Adventure|Sci-Fi</td>\n      <td>The Matrix</td>\n    </tr>\n    <tr>\n      <th>tt1375666</th>\n      <td>Inception (2010)</td>\n      <td>2010</td>\n      <td>8.9</td>\n      <td>385149</td>\n      <td>148 mins.</td>\n      <td>Action|Adventure|Sci-Fi|Thriller</td>\n      <td>Inception</td>\n    </tr>\n  </tbody>\n</table>\n</div>"
     },
     "execution_count": 43,
     "metadata": {},
     "output_type": "execute_result"
    }
   ],
   "source": [
    "data.head(5)\n"
   ]
  },
  {
   "cell_type": "code",
   "execution_count": 44,
   "metadata": {
    "ExecuteTime": {
     "start_time": "2023-05-11T13:35:55.579196Z",
     "end_time": "2023-05-11T13:35:55.624108Z"
    },
    "collapsed": false
   },
   "outputs": [
    {
     "data": {
      "text/plain": "id\ntt0111161    The Shawshank Redemption \ntt0110912                Pulp Fiction \ntt0137523                  Fight Club \ntt0133093                  The Matrix \ntt1375666                   Inception \n                       ...            \ntt0807721                     Meduzot \ntt0339642              Daltry Calhoun \ntt0060880      The Quiller Memorandum \ntt0152836                        Taal \ntt0279977              The Navigators \nName: Names, Length: 10000, dtype: object"
     },
     "execution_count": 44,
     "metadata": {},
     "output_type": "execute_result"
    }
   ],
   "source": [
    "data['Names'].str.split('\\(').str[0]\n"
   ]
  },
  {
   "cell_type": "code",
   "execution_count": null,
   "metadata": {
    "ExecuteTime": {
     "end_time": "2023-05-03T14:41:12.776898Z",
     "start_time": "2023-05-03T14:41:12.744157Z"
    },
    "collapsed": false
   },
   "outputs": [],
   "source": [
    "data['Names'].str.split('\\(').str.get(0)"
   ]
  },
  {
   "cell_type": "code",
   "execution_count": null,
   "metadata": {
    "ExecuteTime": {
     "end_time": "2023-05-03T14:41:49.258193Z",
     "start_time": "2023-05-03T14:41:49.129524Z"
    },
    "collapsed": false
   },
   "outputs": [],
   "source": [
    "data['formatted Names']=data['Names'].str.split('\\(').str.get(0)"
   ]
  },
  {
   "cell_type": "code",
   "execution_count": null,
   "metadata": {
    "ExecuteTime": {
     "end_time": "2023-05-03T14:41:55.746728Z",
     "start_time": "2023-05-03T14:41:55.628510Z"
    },
    "collapsed": false
   },
   "outputs": [],
   "source": [
    "data.head(5)"
   ]
  },
  {
   "cell_type": "code",
   "execution_count": 39,
   "metadata": {
    "ExecuteTime": {
     "start_time": "2023-05-11T13:35:26.243713Z",
     "end_time": "2023-05-11T13:35:26.378785Z"
    },
    "collapsed": false
   },
   "outputs": [
    {
     "data": {
      "text/plain": "id\ntt0111161    142\ntt0110912    154\ntt0137523    139\ntt0133093    136\ntt1375666    148\n            ... \ntt0807721     78\ntt0339642    100\ntt0060880    104\ntt0152836    179\ntt0279977     96\nName: Time, Length: 10000, dtype: object"
     },
     "execution_count": 39,
     "metadata": {},
     "output_type": "execute_result"
    }
   ],
   "source": [
    "data['Time'].str.split().str.get(0)"
   ]
  },
  {
   "cell_type": "code",
   "execution_count": 38,
   "metadata": {
    "ExecuteTime": {
     "start_time": "2023-05-11T13:35:23.944796Z",
     "end_time": "2023-05-11T13:35:24.069246Z"
    },
    "collapsed": false
   },
   "outputs": [
    {
     "data": {
      "text/plain": "id\ntt0111161    142\ntt0110912    154\ntt0137523    139\ntt0133093    136\ntt1375666    148\n            ... \ntt0807721     78\ntt0339642    100\ntt0060880    104\ntt0152836    179\ntt0279977     96\nName: Time, Length: 10000, dtype: object"
     },
     "execution_count": 38,
     "metadata": {},
     "output_type": "execute_result"
    }
   ],
   "source": [
    "data['Time'].str[:-6]"
   ]
  },
  {
   "cell_type": "code",
   "execution_count": 46,
   "metadata": {
    "ExecuteTime": {
     "start_time": "2023-05-11T13:36:05.469465Z",
     "end_time": "2023-05-11T13:36:05.538688Z"
    },
    "collapsed": false
   },
   "outputs": [
    {
     "data": {
      "text/plain": "id\ntt0111161    142\ntt0110912    154\ntt0137523    139\ntt0133093    136\ntt1375666    148\n            ... \ntt0807721     78\ntt0339642    100\ntt0060880    104\ntt0152836    179\ntt0279977     96\nName: Time, Length: 10000, dtype: int32"
     },
     "execution_count": 46,
     "metadata": {},
     "output_type": "execute_result"
    }
   ],
   "source": [
    "data['Time'].str.split().str.get(0).astype('int')"
   ]
  },
  {
   "cell_type": "code",
   "execution_count": null,
   "metadata": {
    "collapsed": false
   },
   "outputs": [],
   "source": []
  },
  {
   "cell_type": "code",
   "execution_count": 45,
   "metadata": {
    "ExecuteTime": {
     "start_time": "2023-05-11T13:36:02.946019Z",
     "end_time": "2023-05-11T13:36:02.972508Z"
    },
    "collapsed": false
   },
   "outputs": [
    {
     "data": {
      "text/plain": "                                     Names  Year  Rating   Votes       Time   \nid                                                                            \ntt0111161  The Shawshank Redemption (1994)  1994     9.2  619479  142 mins.  \\\ntt0110912              Pulp Fiction (1994)  1994     9.0  490065  154 mins.   \ntt0137523                Fight Club (1999)  1999     8.8  458173  139 mins.   \ntt0133093                The Matrix (1999)  1999     8.7  448114  136 mins.   \ntt1375666                 Inception (2010)  2010     8.9  385149  148 mins.   \n\n                                      Genre           formatted Names  \nid                                                                     \ntt0111161                       Crime|Drama  The Shawshank Redemption  \ntt0110912                    Crime|Thriller              Pulp Fiction  \ntt0137523            Drama|Mystery|Thriller                Fight Club  \ntt0133093           Action|Adventure|Sci-Fi                The Matrix  \ntt1375666  Action|Adventure|Sci-Fi|Thriller                 Inception  ",
      "text/html": "<div>\n<style scoped>\n    .dataframe tbody tr th:only-of-type {\n        vertical-align: middle;\n    }\n\n    .dataframe tbody tr th {\n        vertical-align: top;\n    }\n\n    .dataframe thead th {\n        text-align: right;\n    }\n</style>\n<table border=\"1\" class=\"dataframe\">\n  <thead>\n    <tr style=\"text-align: right;\">\n      <th></th>\n      <th>Names</th>\n      <th>Year</th>\n      <th>Rating</th>\n      <th>Votes</th>\n      <th>Time</th>\n      <th>Genre</th>\n      <th>formatted Names</th>\n    </tr>\n    <tr>\n      <th>id</th>\n      <th></th>\n      <th></th>\n      <th></th>\n      <th></th>\n      <th></th>\n      <th></th>\n      <th></th>\n    </tr>\n  </thead>\n  <tbody>\n    <tr>\n      <th>tt0111161</th>\n      <td>The Shawshank Redemption (1994)</td>\n      <td>1994</td>\n      <td>9.2</td>\n      <td>619479</td>\n      <td>142 mins.</td>\n      <td>Crime|Drama</td>\n      <td>The Shawshank Redemption</td>\n    </tr>\n    <tr>\n      <th>tt0110912</th>\n      <td>Pulp Fiction (1994)</td>\n      <td>1994</td>\n      <td>9.0</td>\n      <td>490065</td>\n      <td>154 mins.</td>\n      <td>Crime|Thriller</td>\n      <td>Pulp Fiction</td>\n    </tr>\n    <tr>\n      <th>tt0137523</th>\n      <td>Fight Club (1999)</td>\n      <td>1999</td>\n      <td>8.8</td>\n      <td>458173</td>\n      <td>139 mins.</td>\n      <td>Drama|Mystery|Thriller</td>\n      <td>Fight Club</td>\n    </tr>\n    <tr>\n      <th>tt0133093</th>\n      <td>The Matrix (1999)</td>\n      <td>1999</td>\n      <td>8.7</td>\n      <td>448114</td>\n      <td>136 mins.</td>\n      <td>Action|Adventure|Sci-Fi</td>\n      <td>The Matrix</td>\n    </tr>\n    <tr>\n      <th>tt1375666</th>\n      <td>Inception (2010)</td>\n      <td>2010</td>\n      <td>8.9</td>\n      <td>385149</td>\n      <td>148 mins.</td>\n      <td>Action|Adventure|Sci-Fi|Thriller</td>\n      <td>Inception</td>\n    </tr>\n  </tbody>\n</table>\n</div>"
     },
     "execution_count": 45,
     "metadata": {},
     "output_type": "execute_result"
    }
   ],
   "source": [
    "data.head(5)"
   ]
  },
  {
   "cell_type": "code",
   "execution_count": null,
   "metadata": {
    "collapsed": false
   },
   "outputs": [],
   "source": []
  }
 ],
 "metadata": {
  "kernelspec": {
   "display_name": "Python 3.11.3 64-bit",
   "language": "python",
   "name": "python3"
  },
  "language_info": {
   "codemirror_mode": {
    "name": "ipython",
    "version": 2
   },
   "file_extension": ".py",
   "mimetype": "text/x-python",
   "name": "python",
   "nbconvert_exporter": "python",
   "pygments_lexer": "ipython2",
   "version": "3.11.3"
  },
  "vscode": {
   "interpreter": {
    "hash": "d417a21d97a2e6b8832d21dc44f5cbe4be6e18325f874a8bb8484565b928cd54"
   }
  }
 },
 "nbformat": 4,
 "nbformat_minor": 0
}
